{
  "nbformat": 4,
  "nbformat_minor": 0,
  "metadata": {
    "colab": {
      "provenance": []
    },
    "kernelspec": {
      "name": "python3",
      "display_name": "Python 3"
    },
    "language_info": {
      "name": "python"
    }
  },
  "cells": [
    {
      "cell_type": "markdown",
      "source": [
        "Importamos todas las librerías necesarios y Cargamos el DataSet Iris"
      ],
      "metadata": {
        "id": "__4ISo8NgkZ1"
      }
    },
    {
      "cell_type": "code",
      "execution_count": 1,
      "metadata": {
        "id": "JQ-670V1ggcs"
      },
      "outputs": [],
      "source": [
        "from sklearn import datasets, metrics\n",
        "from sklearn.model_selection import train_test_split\n",
        "from sklearn.model_selection import cross_val_score\n",
        "from sklearn.model_selection import KFold\n",
        "from sklearn.linear_model import LogisticRegression\n",
        "\n",
        "iris = datasets.load_iris()"
      ]
    },
    {
      "cell_type": "code",
      "source": [
        "# Dividimos nuestro dataset en train y test en un 80% 20%\n",
        "X_train, X_test, y_train, y_test = train_test_split(iris.data, iris.target, test_size=0.2, random_state=0)\n",
        "\n",
        "# Definimos 5 Kfolds\n",
        "kf = KFold(n_splits=5)\n",
        "\n",
        "# Creamos un modelo de Regresión Logística (como ejemplo), lo asignamos a nuestro \"Classifier\" y lo entrenamos con los datos de Train\n",
        "clf = LogisticRegression()\n",
        "clf.fit(X_train, y_train)\n",
        "\n",
        "score = clf.score(X_train,y_train)\n",
        "\n",
        "print(\"Metrica del modelo\", score)"
      ],
      "metadata": {
        "id": "L1r6ZtnqguOO"
      },
      "execution_count": null,
      "outputs": []
    },
    {
      "cell_type": "code",
      "source": [
        "# Comparamos los resultados obtenidos en el modelo inicial, en el cross validation y vemos que son similares.\n",
        "scores = cross_val_score(clf, X_train, y_train, cv=kf, scoring=\"accuracy\")\n",
        "\n",
        "print(\"Metricas cross_validation\", scores)\n",
        "print(\"Media de cross_validation\", scores.mean())"
      ],
      "metadata": {
        "id": "cDuWm2aSg1JQ"
      },
      "execution_count": null,
      "outputs": []
    },
    {
      "cell_type": "code",
      "source": [
        "# Finalmente hacemos predict sobre el Conjunto de Test y veremos que también obtenemos buen Accuracy\n",
        "preds = clf.predict(X_test)\n",
        "score_pred = metrics.accuracy_score(y_test, preds)\n",
        "\n",
        "print(\"Metrica en Test\", score_pred)"
      ],
      "metadata": {
        "id": "HKoDyAcxhsYu"
      },
      "execution_count": null,
      "outputs": []
    }
  ]
}